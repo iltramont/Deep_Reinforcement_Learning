{
 "cells": [
  {
   "cell_type": "markdown",
   "source": [
    "# Environment Analysis\n",
    "\n",
    "Gymnasium Documentation for double inverted pendulum at the followng link: __[Double Inverted Pendulum](https://gymnasium.farama.org/environments/mujoco/inverted_double_pendulum/)__."
   ],
   "metadata": {
    "collapsed": false
   },
   "id": "813a6ebc5d8e310f"
  },
  {
   "cell_type": "code",
   "execution_count": 1,
   "id": "initial_id",
   "metadata": {
    "collapsed": true,
    "ExecuteTime": {
     "end_time": "2024-06-02T19:38:22.982549Z",
     "start_time": "2024-06-02T19:38:18.817813Z"
    }
   },
   "outputs": [],
   "source": [
    "# Import packages\n",
    "import gymnasium as gym\n",
    "import numpy as np\n",
    "import pandas as pd\n",
    "import matplotlib.pyplot as plt\n",
    "import os\n",
    "import torch\n",
    "import time\n",
    "\n",
    "from IPython.display import clear_output"
   ]
  },
  {
   "cell_type": "markdown",
   "source": [
    "## Description\n",
    "\n",
    "This environment originates from control theory and builds on the cartpole environment based on the work done by Barto, Sutton, and Anderson in “Neuronlike adaptive elements that can solve difficult learning control problems”, powered by the Mujoco physics simulator.\n",
    "\n",
    "This environment involves a cart that can moved linearly, with a pole fixed on it and a second pole fixed on the other end of the first one (leaving the second pole as the only one with one free end). The cart can be pushed left or right, and the goal is to balance the second pole on top of the first pole, which is in turn on top of the cart, by applying continuous forces on the cart."
   ],
   "metadata": {
    "collapsed": false
   },
   "id": "7f23c815003deba4"
  },
  {
   "cell_type": "code",
   "outputs": [
    {
     "data": {
      "text/plain": "<Figure size 640x480 with 1 Axes>",
      "image/png": "[encoded data removed]"
     },
     "metadata": {},
     "output_type": "display_data"
    }
   ],
   "source": [
    "env = gym.make(\"InvertedDoublePendulum-v4\", render_mode='rgb_array')\n",
    "env.reset()\n",
    "plt.imshow(env.render())\n",
    "plt.title('Environment Image')\n",
    "plt.show()"
   ],
   "metadata": {
    "collapsed": false,
    "ExecuteTime": {
     "end_time": "2024-06-02T19:38:24.297077Z",
     "start_time": "2024-06-02T19:38:22.984517Z"
    }
   },
   "id": "42ac29dc91a5630e",
   "execution_count": 2
  },
  {
   "cell_type": "markdown",
   "source": [
    "## Action Space\n",
    "The agent take a 1-element vector for actions.\n",
    "\n",
    "The action space is a continuous (action) in [-1, 1], where action represents the numerical force applied to the cart (with magnitude representing the amount of force and sign representing the direction)"
   ],
   "metadata": {
    "collapsed": false
   },
   "id": "b7c982a32410ac49"
  },
  {
   "cell_type": "code",
   "outputs": [
    {
     "name": "stdout",
     "output_type": "stream",
     "text": [
      "action space = Box(-1.0, 1.0, (1,), float32)\n"
     ]
    }
   ],
   "source": [
    "print(f'action space = {env.action_space}')"
   ],
   "metadata": {
    "collapsed": false,
    "ExecuteTime": {
     "end_time": "2024-06-02T19:38:24.313063Z",
     "start_time": "2024-06-02T19:38:24.299072Z"
    }
   },
   "id": "c93bfd34975a8497",
   "execution_count": 3
  },
  {
   "cell_type": "markdown",
   "source": [
    "## Observation Space\n",
    "The state space consists of positional values of different body parts of the pendulum system, followed by the velocities of those individual parts (their derivatives) with all the positions ordered before all the velocities.\n",
    "\n",
    "Mujoco attempts at getting realistic physics simulations for the possible physical contact dynamics by aiming for physical accuracy and computational efficiency.\n",
    "\n",
    "There is one constraint force for contacts for each degree of freedom (3).\n",
    "\n",
    "The observation is therefore a ndarray with shape (11,), (five spatial coordinates, three velocity coordinates and three constraints)."
   ],
   "metadata": {
    "collapsed": false
   },
   "id": "e4784d5e15bb0452"
  },
  {
   "cell_type": "code",
   "outputs": [
    {
     "name": "stdout",
     "output_type": "stream",
     "text": [
      "observation space = Box(-inf, inf, (11,), float64)\n"
     ]
    }
   ],
   "source": [
    "print(f'observation space = {env.observation_space}')"
   ],
   "metadata": {
    "collapsed": false,
    "ExecuteTime": {
     "end_time": "2024-06-02T19:38:24.329003Z",
     "start_time": "2024-06-02T19:38:24.317025Z"
    }
   },
   "id": "8c92d02610cfb5b4",
   "execution_count": 4
  },
  {
   "cell_type": "markdown",
   "source": [
    "## Rewards\n",
    "\n",
    "The rewards consist of two parts:\n",
    " - **alive_bonus**: The goal is to make the second inverted pendulum stand upright (within a certain angle limit) as long as possible - as such a reward of +10 is awarded for each timestep that the second pole is upright;\n",
    "\n",
    "* **distance_penalty**: This reward is a measure of how far the tip of the second pendulum (the only free end) moves, and it is calculated as $0.01x^2 + (y - 2)^2$, where x is the x-coordinate of the tip and y is the y-coordinate of the tip of the second pole;\n",
    "\n",
    " - **velocity_penalty**: A negative reward for penalising the agent if it moves too fast $0.001v_1^2 + 0.005v_2^2$.\n",
    "\n",
    "The total reward returned is **reward** = alive_bonus - distance_penalty - velocity_penalty.\n"
   ],
   "metadata": {
    "collapsed": false
   },
   "id": "449a957dbfd321c1"
  },
  {
   "cell_type": "code",
   "outputs": [
    {
     "name": "stdout",
     "output_type": "stream",
     "text": [
      "reward range = (-inf, inf)\n"
     ]
    }
   ],
   "source": [
    "print(f'reward range = {env.reward_range}')"
   ],
   "metadata": {
    "collapsed": false,
    "ExecuteTime": {
     "end_time": "2024-06-02T19:38:24.344950Z",
     "start_time": "2024-06-02T19:38:24.329991Z"
    }
   },
   "id": "af2c80a47bb2b896",
   "execution_count": 5
  },
  {
   "cell_type": "markdown",
   "source": [
    "## Starting State\n",
    "\n",
    "All observations start in state $(0, 0, 0, 0, 0, 0, 0, 0, 0, 0, 0)$ with a uniform noise in the range of $[-0.1, 0.1]$ added to the positional values (cart position and pole angles) and standard normal force with a standard deviation of 0.1 added to the velocity values for stochasticity."
   ],
   "metadata": {
    "collapsed": false
   },
   "id": "2597c8dd5fff5464"
  },
  {
   "cell_type": "markdown",
   "source": [
    "## Episode End\n",
    "\n",
    "The episode ends when any of the following happens:\n",
    "\n",
    " - **Truncation**: The episode duration reaches 1000 timesteps (success);\n",
    "* **Termination**: Any of the state space values is no longer finite;\n",
    " - **Termination**: The y_coordinate of the tip of the second pole is less than or equal to 1. The maximum standing height of the system is 1.196 m when all the parts are perpendicularly vertical on top of each other)."
   ],
   "metadata": {
    "collapsed": false
   },
   "id": "78c917dd8aa9926"
  },
  {
   "cell_type": "code",
   "outputs": [],
   "source": [],
   "metadata": {
    "collapsed": false,
    "ExecuteTime": {
     "end_time": "2024-06-02T19:38:24.360927Z",
     "start_time": "2024-06-02T19:38:24.346944Z"
    }
   },
   "id": "5ec369c3dc736d01",
   "execution_count": 5
  }
 ],
 "metadata": {
  "kernelspec": {
   "display_name": "Python 3",
   "language": "python",
   "name": "python3"
  },
  "language_info": {
   "codemirror_mode": {
    "name": "ipython",
    "version": 2
   },
   "file_extension": ".py",
   "mimetype": "text/x-python",
   "name": "python",
   "nbconvert_exporter": "python",
   "pygments_lexer": "ipython2",
   "version": "2.7.6"
  }
 },
 "nbformat": 4,
 "nbformat_minor": 5
}
